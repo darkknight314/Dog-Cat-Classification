{
  "nbformat": 4,
  "nbformat_minor": 0,
  "metadata": {
    "colab": {
      "name": "Resnet_extract_features.ipynb",
      "provenance": [],
      "collapsed_sections": [],
      "machine_shape": "hm",
      "include_colab_link": true
    },
    "kernelspec": {
      "name": "python3",
      "display_name": "Python 3"
    },
    "accelerator": "GPU"
  },
  "cells": [
    {
      "cell_type": "markdown",
      "metadata": {
        "id": "view-in-github",
        "colab_type": "text"
      },
      "source": [
        "<a href=\"https://colab.research.google.com/github/darkknight314/Dog-Cat-Classification/blob/master/Resnet_extract_features.ipynb\" target=\"_parent\"><img src=\"https://colab.research.google.com/assets/colab-badge.svg\" alt=\"Open In Colab\"/></a>"
      ]
    },
    {
      "cell_type": "code",
      "metadata": {
        "id": "93qM1eQ2mB0R",
        "colab_type": "code",
        "outputId": "4c63f04b-cab1-41df-b931-458f47fd4c6a",
        "colab": {
          "base_uri": "https://localhost:8080/",
          "height": 125
        }
      },
      "source": [
        "from google.colab import drive\n",
        "drive.mount('/content/gdrive')"
      ],
      "execution_count": 1,
      "outputs": [
        {
          "output_type": "stream",
          "text": [
            "Go to this URL in a browser: https://accounts.google.com/o/oauth2/auth?client_id=947318989803-6bn6qk8qdgf4n4g3pfee6491hc0brc4i.apps.googleusercontent.com&redirect_uri=urn%3aietf%3awg%3aoauth%3a2.0%3aoob&response_type=code&scope=email%20https%3a%2f%2fwww.googleapis.com%2fauth%2fdocs.test%20https%3a%2f%2fwww.googleapis.com%2fauth%2fdrive%20https%3a%2f%2fwww.googleapis.com%2fauth%2fdrive.photos.readonly%20https%3a%2f%2fwww.googleapis.com%2fauth%2fpeopleapi.readonly\n",
            "\n",
            "Enter your authorization code:\n",
            "··········\n",
            "Mounted at /content/gdrive\n"
          ],
          "name": "stdout"
        }
      ]
    },
    {
      "cell_type": "code",
      "metadata": {
        "id": "XGdzneaImMTS",
        "colab_type": "code",
        "outputId": "c6dfb7d5-668a-4b87-e0af-dba606fb4712",
        "colab": {
          "base_uri": "https://localhost:8080/",
          "height": 34
        }
      },
      "source": [
        "cd /content/gdrive/My Drive/Dataset224"
      ],
      "execution_count": 2,
      "outputs": [
        {
          "output_type": "stream",
          "text": [
            "/content/gdrive/.shortcut-targets-by-id/1tMtDHOL-zdhTUWXJ0P8RKeeAp7ccVdKb/Dataset224\n"
          ],
          "name": "stdout"
        }
      ]
    },
    {
      "cell_type": "code",
      "metadata": {
        "id": "4MLITq-fmMSH",
        "colab_type": "code",
        "colab": {}
      },
      "source": [
        "import os\n",
        "\n",
        "from torch.autograd import Variable\n",
        "import torch\n",
        "import torch.nn as nn\n",
        "\n",
        "from sklearn.utils import shuffle\n",
        "\n",
        "import numpy as np\n",
        "from matplotlib import pyplot as plt\n",
        "import matplotlib.image as mpimg\n",
        "import time\n",
        "from torchvision.models import resnet34#, resnet50, resnet101\n",
        "\n",
        "%matplotlib inline"
      ],
      "execution_count": 0,
      "outputs": []
    },
    {
      "cell_type": "code",
      "metadata": {
        "id": "vlkUTLdpmMQy",
        "colab_type": "code",
        "outputId": "7cef5065-2850-44a8-8734-248d91ac1c99",
        "colab": {
          "base_uri": "https://localhost:8080/",
          "height": 34
        }
      },
      "source": [
        "use_cuda = torch.cuda.is_available()\n",
        "device = torch.device(\"cuda\" if use_cuda else \"cpu\")\n",
        "print(device)"
      ],
      "execution_count": 12,
      "outputs": [
        {
          "output_type": "stream",
          "text": [
            "cuda\n"
          ],
          "name": "stdout"
        }
      ]
    },
    {
      "cell_type": "code",
      "metadata": {
        "id": "gFZB7m7cxR__",
        "colab_type": "code",
        "outputId": "ff1fe14b-a6b1-4147-f5ed-ded34ea5fd70",
        "colab": {
          "base_uri": "https://localhost:8080/",
          "height": 34
        }
      },
      "source": [
        "### DATA GEN\n",
        "t_start = time.clock()\n",
        "X = np.load(\"./images.npz\", allow_pickle=True)['arr_0']\n",
        "t_end = time.clock()\n",
        "print(\"Data loaded in {}\".format(t_end - t_start))"
      ],
      "execution_count": 13,
      "outputs": [
        {
          "output_type": "stream",
          "text": [
            "Data loaded in 8.265645999999997\n"
          ],
          "name": "stdout"
        }
      ]
    },
    {
      "cell_type": "code",
      "metadata": {
        "id": "Ovsxcf9X232e",
        "colab_type": "code",
        "colab": {}
      },
      "source": [
        "image_dim = X.shape[2]\n",
        "\n",
        "X = torch.Tensor(X.reshape(-1, 3, image_dim, image_dim))\n",
        "base_resnet = nn.Sequential(*list(resnet34(pretrained=True).children())[:-3], \n",
        "                                  nn.AdaptiveAvgPool2d(1))\n",
        "base_resnet.to(device)\n",
        "base_resnet.training = False"
      ],
      "execution_count": 0,
      "outputs": []
    },
    {
      "cell_type": "code",
      "metadata": {
        "id": "Y1KQ6RJb3070",
        "colab_type": "code",
        "colab": {}
      },
      "source": [
        "def extract_features(X,model):\n",
        "    output_x = []\n",
        "    with torch.no_grad():\n",
        "        for i in range(len(X)):\n",
        "            output_x.append(model(Variable(X[i:i+1]).to(device)).reshape(-1,256))\n",
        "    #output_list = zip(output_x, y)\n",
        "    #output_loader = torch.utils.data.DataLoader(output_list, batch_size=BATCH_SIZE, shuffle=to_shuffle)\n",
        "    return output_x"
      ],
      "execution_count": 0,
      "outputs": []
    },
    {
      "cell_type": "code",
      "metadata": {
        "id": "NEBo5aji32KI",
        "colab_type": "code",
        "colab": {}
      },
      "source": [
        "data = extract_features(X, base_resnet)\n",
        "#test_data = extract_features(X_test, y_test, base_resnet,1, True)"
      ],
      "execution_count": 0,
      "outputs": []
    },
    {
      "cell_type": "code",
      "metadata": {
        "id": "56sAug9GTK7Y",
        "colab_type": "code",
        "colab": {}
      },
      "source": [
        "PATH = '/content/gdrive/My Drive/Dataset224/images.pth'\n",
        "torch.save({'images': data}, PATH)"
      ],
      "execution_count": 0,
      "outputs": []
    }
  ]
}