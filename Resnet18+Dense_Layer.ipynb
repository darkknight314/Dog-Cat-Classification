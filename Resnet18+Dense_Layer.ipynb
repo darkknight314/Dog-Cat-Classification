{
  "nbformat": 4,
  "nbformat_minor": 0,
  "metadata": {
    "colab": {
      "name": "Resnet18+Dense Layer.ipynb",
      "provenance": [],
      "collapsed_sections": [],
      "include_colab_link": true
    },
    "kernelspec": {
      "name": "python3",
      "display_name": "Python 3"
    },
    "accelerator": "GPU",
    "widgets": {
      "application/vnd.jupyter.widget-state+json": {
        "f4e4c6159b18450195d1827ae0b0983e": {
          "model_module": "@jupyter-widgets/controls",
          "model_name": "HBoxModel",
          "state": {
            "_view_name": "HBoxView",
            "_dom_classes": [],
            "_model_name": "HBoxModel",
            "_view_module": "@jupyter-widgets/controls",
            "_model_module_version": "1.5.0",
            "_view_count": null,
            "_view_module_version": "1.5.0",
            "box_style": "",
            "layout": "IPY_MODEL_d730b14f158243e19494b9edf5084211",
            "_model_module": "@jupyter-widgets/controls",
            "children": [
              "IPY_MODEL_c94fdbdde3394abfa609c4882cbbead6",
              "IPY_MODEL_7b9b3d9d3ede4f42a3bccf866733d57a"
            ]
          }
        },
        "d730b14f158243e19494b9edf5084211": {
          "model_module": "@jupyter-widgets/base",
          "model_name": "LayoutModel",
          "state": {
            "_view_name": "LayoutView",
            "grid_template_rows": null,
            "right": null,
            "justify_content": null,
            "_view_module": "@jupyter-widgets/base",
            "overflow": null,
            "_model_module_version": "1.2.0",
            "_view_count": null,
            "flex_flow": null,
            "width": null,
            "min_width": null,
            "border": null,
            "align_items": null,
            "bottom": null,
            "_model_module": "@jupyter-widgets/base",
            "top": null,
            "grid_column": null,
            "overflow_y": null,
            "overflow_x": null,
            "grid_auto_flow": null,
            "grid_area": null,
            "grid_template_columns": null,
            "flex": null,
            "_model_name": "LayoutModel",
            "justify_items": null,
            "grid_row": null,
            "max_height": null,
            "align_content": null,
            "visibility": null,
            "align_self": null,
            "height": null,
            "min_height": null,
            "padding": null,
            "grid_auto_rows": null,
            "grid_gap": null,
            "max_width": null,
            "order": null,
            "_view_module_version": "1.2.0",
            "grid_template_areas": null,
            "object_position": null,
            "object_fit": null,
            "grid_auto_columns": null,
            "margin": null,
            "display": null,
            "left": null
          }
        },
        "c94fdbdde3394abfa609c4882cbbead6": {
          "model_module": "@jupyter-widgets/controls",
          "model_name": "FloatProgressModel",
          "state": {
            "_view_name": "ProgressView",
            "style": "IPY_MODEL_bd958c2f63f04b4f833ed9b4fd34033d",
            "_dom_classes": [],
            "description": "100%",
            "_model_name": "FloatProgressModel",
            "bar_style": "success",
            "max": 46827520,
            "_view_module": "@jupyter-widgets/controls",
            "_model_module_version": "1.5.0",
            "value": 46827520,
            "_view_count": null,
            "_view_module_version": "1.5.0",
            "orientation": "horizontal",
            "min": 0,
            "description_tooltip": null,
            "_model_module": "@jupyter-widgets/controls",
            "layout": "IPY_MODEL_1e515ead7b394605992c7945d128e70b"
          }
        },
        "7b9b3d9d3ede4f42a3bccf866733d57a": {
          "model_module": "@jupyter-widgets/controls",
          "model_name": "HTMLModel",
          "state": {
            "_view_name": "HTMLView",
            "style": "IPY_MODEL_a2f875696ffd45d6b9db366e824d5135",
            "_dom_classes": [],
            "description": "",
            "_model_name": "HTMLModel",
            "placeholder": "​",
            "_view_module": "@jupyter-widgets/controls",
            "_model_module_version": "1.5.0",
            "value": " 44.7M/44.7M [00:00&lt;00:00, 253MB/s]",
            "_view_count": null,
            "_view_module_version": "1.5.0",
            "description_tooltip": null,
            "_model_module": "@jupyter-widgets/controls",
            "layout": "IPY_MODEL_61a9e36f1e2c49ab912ca8708fd251bb"
          }
        },
        "bd958c2f63f04b4f833ed9b4fd34033d": {
          "model_module": "@jupyter-widgets/controls",
          "model_name": "ProgressStyleModel",
          "state": {
            "_view_name": "StyleView",
            "_model_name": "ProgressStyleModel",
            "description_width": "initial",
            "_view_module": "@jupyter-widgets/base",
            "_model_module_version": "1.5.0",
            "_view_count": null,
            "_view_module_version": "1.2.0",
            "bar_color": null,
            "_model_module": "@jupyter-widgets/controls"
          }
        },
        "1e515ead7b394605992c7945d128e70b": {
          "model_module": "@jupyter-widgets/base",
          "model_name": "LayoutModel",
          "state": {
            "_view_name": "LayoutView",
            "grid_template_rows": null,
            "right": null,
            "justify_content": null,
            "_view_module": "@jupyter-widgets/base",
            "overflow": null,
            "_model_module_version": "1.2.0",
            "_view_count": null,
            "flex_flow": null,
            "width": null,
            "min_width": null,
            "border": null,
            "align_items": null,
            "bottom": null,
            "_model_module": "@jupyter-widgets/base",
            "top": null,
            "grid_column": null,
            "overflow_y": null,
            "overflow_x": null,
            "grid_auto_flow": null,
            "grid_area": null,
            "grid_template_columns": null,
            "flex": null,
            "_model_name": "LayoutModel",
            "justify_items": null,
            "grid_row": null,
            "max_height": null,
            "align_content": null,
            "visibility": null,
            "align_self": null,
            "height": null,
            "min_height": null,
            "padding": null,
            "grid_auto_rows": null,
            "grid_gap": null,
            "max_width": null,
            "order": null,
            "_view_module_version": "1.2.0",
            "grid_template_areas": null,
            "object_position": null,
            "object_fit": null,
            "grid_auto_columns": null,
            "margin": null,
            "display": null,
            "left": null
          }
        },
        "a2f875696ffd45d6b9db366e824d5135": {
          "model_module": "@jupyter-widgets/controls",
          "model_name": "DescriptionStyleModel",
          "state": {
            "_view_name": "StyleView",
            "_model_name": "DescriptionStyleModel",
            "description_width": "",
            "_view_module": "@jupyter-widgets/base",
            "_model_module_version": "1.5.0",
            "_view_count": null,
            "_view_module_version": "1.2.0",
            "_model_module": "@jupyter-widgets/controls"
          }
        },
        "61a9e36f1e2c49ab912ca8708fd251bb": {
          "model_module": "@jupyter-widgets/base",
          "model_name": "LayoutModel",
          "state": {
            "_view_name": "LayoutView",
            "grid_template_rows": null,
            "right": null,
            "justify_content": null,
            "_view_module": "@jupyter-widgets/base",
            "overflow": null,
            "_model_module_version": "1.2.0",
            "_view_count": null,
            "flex_flow": null,
            "width": null,
            "min_width": null,
            "border": null,
            "align_items": null,
            "bottom": null,
            "_model_module": "@jupyter-widgets/base",
            "top": null,
            "grid_column": null,
            "overflow_y": null,
            "overflow_x": null,
            "grid_auto_flow": null,
            "grid_area": null,
            "grid_template_columns": null,
            "flex": null,
            "_model_name": "LayoutModel",
            "justify_items": null,
            "grid_row": null,
            "max_height": null,
            "align_content": null,
            "visibility": null,
            "align_self": null,
            "height": null,
            "min_height": null,
            "padding": null,
            "grid_auto_rows": null,
            "grid_gap": null,
            "max_width": null,
            "order": null,
            "_view_module_version": "1.2.0",
            "grid_template_areas": null,
            "object_position": null,
            "object_fit": null,
            "grid_auto_columns": null,
            "margin": null,
            "display": null,
            "left": null
          }
        }
      }
    }
  },
  "cells": [
    {
      "cell_type": "markdown",
      "metadata": {
        "id": "view-in-github",
        "colab_type": "text"
      },
      "source": [
        "<a href=\"https://colab.research.google.com/github/darkknight314/Dog-Cat-Classification/blob/master/Resnet18%2BDense_Layer.ipynb\" target=\"_parent\"><img src=\"https://colab.research.google.com/assets/colab-badge.svg\" alt=\"Open In Colab\"/></a>"
      ]
    },
    {
      "cell_type": "code",
      "metadata": {
        "id": "Ctr0i5sJTzlM",
        "colab_type": "code",
        "outputId": "618c8e34-3dce-47df-d810-c9bb1dc8e6c9",
        "colab": {
          "base_uri": "https://localhost:8080/",
          "height": 54
        }
      },
      "source": [
        "cd /content/drive/My Drive/Dataset224"
      ],
      "execution_count": 6,
      "outputs": [
        {
          "output_type": "stream",
          "text": [
            "/content/drive/.shortcut-targets-by-id/1tMtDHOL-zdhTUWXJ0P8RKeeAp7ccVdKb/Dataset224\n"
          ],
          "name": "stdout"
        }
      ]
    },
    {
      "cell_type": "code",
      "metadata": {
        "id": "kwpnhUJmZZgo",
        "colab_type": "code",
        "colab": {}
      },
      "source": [
        "import torch\n",
        "import numpy as np\n",
        "from torchvision.models import resnet18\n",
        "import torch.nn as nn\n",
        "from sklearn.utils import shuffle\n",
        "from torch.utils.data import TensorDataset, DataLoader, Dataset\n",
        "import torchvision.transforms as transforms"
      ],
      "execution_count": 0,
      "outputs": []
    },
    {
      "cell_type": "code",
      "metadata": {
        "id": "fLIqxVoiZcZ3",
        "colab_type": "code",
        "outputId": "b7197408-b3d5-46ec-e0ec-dd9e989c9e6c",
        "colab": {
          "base_uri": "https://localhost:8080/",
          "height": 34
        }
      },
      "source": [
        "use_cuda = torch.cuda.is_available()\n",
        "device = torch.device(\"cuda\" if use_cuda else \"cpu\")\n",
        "print(device)"
      ],
      "execution_count": 8,
      "outputs": [
        {
          "output_type": "stream",
          "text": [
            "cuda\n"
          ],
          "name": "stdout"
        }
      ]
    },
    {
      "cell_type": "code",
      "metadata": {
        "id": "jOUI2u9sZcOF",
        "colab_type": "code",
        "colab": {}
      },
      "source": [
        "X = np.load(\"./images.npz\", allow_pickle=True)['arr_0']\n",
        "y = np.load(\"./species.npz\", allow_pickle=True)['arr_0']\n",
        "y = y-1\n",
        "X,y = shuffle(X,y)"
      ],
      "execution_count": 0,
      "outputs": []
    },
    {
      "cell_type": "code",
      "metadata": {
        "id": "LZ23cPfRdk_r",
        "colab_type": "code",
        "colab": {}
      },
      "source": [
        "TRAIN = int(0.8*y.shape[0])\n",
        "BATCH_SIZE = 16\n",
        "EPOCH = 10"
      ],
      "execution_count": 0,
      "outputs": []
    },
    {
      "cell_type": "code",
      "metadata": {
        "id": "iBkJLp3haFWy",
        "colab_type": "code",
        "colab": {
          "base_uri": "https://localhost:8080/",
          "height": 104,
          "referenced_widgets": [
            "f4e4c6159b18450195d1827ae0b0983e",
            "d730b14f158243e19494b9edf5084211",
            "c94fdbdde3394abfa609c4882cbbead6",
            "7b9b3d9d3ede4f42a3bccf866733d57a",
            "bd958c2f63f04b4f833ed9b4fd34033d",
            "1e515ead7b394605992c7945d128e70b",
            "a2f875696ffd45d6b9db366e824d5135",
            "61a9e36f1e2c49ab912ca8708fd251bb"
          ]
        },
        "outputId": "a456e3fa-7354-4b44-ccb8-f585010963b0"
      },
      "source": [
        "resmodel = resnet18(pretrained=True)"
      ],
      "execution_count": 11,
      "outputs": [
        {
          "output_type": "stream",
          "text": [
            "Downloading: \"https://download.pytorch.org/models/resnet18-5c106cde.pth\" to /root/.cache/torch/checkpoints/resnet18-5c106cde.pth\n"
          ],
          "name": "stderr"
        },
        {
          "output_type": "display_data",
          "data": {
            "application/vnd.jupyter.widget-view+json": {
              "model_id": "f4e4c6159b18450195d1827ae0b0983e",
              "version_minor": 0,
              "version_major": 2
            },
            "text/plain": [
              "HBox(children=(FloatProgress(value=0.0, max=46827520.0), HTML(value='')))"
            ]
          },
          "metadata": {
            "tags": []
          }
        },
        {
          "output_type": "stream",
          "text": [
            "\n"
          ],
          "name": "stdout"
        }
      ]
    },
    {
      "cell_type": "code",
      "metadata": {
        "id": "j00wUozkbD_t",
        "colab_type": "code",
        "colab": {}
      },
      "source": [
        "class ResClass(nn.Module):\n",
        "    def __init__(self, resmodel):\n",
        "        super(ResClass, self).__init__()\n",
        "        self.resout = resmodel\n",
        "        self.output = nn.Linear(1000,2)\n",
        "    def forward(self, input):\n",
        "        resout = self.resout(input)\n",
        "        output = self.output(resout)\n",
        "        return output "
      ],
      "execution_count": 0,
      "outputs": []
    },
    {
      "cell_type": "code",
      "metadata": {
        "id": "1eP72GEPcE3e",
        "colab_type": "code",
        "colab": {}
      },
      "source": [
        "model = ResClass(resmodel)\n",
        "model.to(device)\n",
        "optimizer = torch.optim.Adam(model.parameters(), lr=0.00001)\n",
        "criterion = nn.CrossEntropyLoss()"
      ],
      "execution_count": 0,
      "outputs": []
    },
    {
      "cell_type": "code",
      "metadata": {
        "id": "psMldU27dL6x",
        "colab_type": "code",
        "colab": {}
      },
      "source": [
        "class MyDataset(Dataset):\n",
        "    def __init__(self,X,y, transforms):\n",
        "        self.X = X\n",
        "        self.y = y\n",
        "        self.transforms = transforms\n",
        "    def __len__(self):\n",
        "        return len(self.y)\n",
        "    def __getitem__(self, idx):\n",
        "        img, label = self.X[idx], self.y[idx]\n",
        "        if self.transforms is not None:\n",
        "            img = self.transforms(img)\n",
        "        return img, label"
      ],
      "execution_count": 0,
      "outputs": []
    },
    {
      "cell_type": "code",
      "metadata": {
        "id": "72phUoF4dUYr",
        "colab_type": "code",
        "colab": {}
      },
      "source": [
        "apply_transforms = transforms.Compose([\n",
        "                    transforms.ToPILImage(),\n",
        "                    transforms.ColorJitter(brightness = 0.5, contrast = 0.5, saturation = 0.5, hue = 0.5),\n",
        "                    transforms.RandomGrayscale(0.1),\n",
        "                    transforms.RandomHorizontalFlip(p=0.5),\n",
        "                    transforms.RandomVerticalFlip(p=0.5),\n",
        "                    transforms.RandomAffine(30),\n",
        "                    transforms.ToTensor(),\n",
        "                    ])\n",
        "train_dataset = MyDataset(X[:TRAIN],y[:TRAIN],apply_transforms)\n",
        "test_dataset = MyDataset(X[TRAIN:],y[TRAIN:], transforms.Compose([transforms.ToTensor()]))\n",
        "train_data = torch.utils.data.DataLoader(train_dataset, batch_size=BATCH_SIZE, shuffle=True, num_workers=2)\n",
        "test_data = torch.utils.data.DataLoader(test_dataset, batch_size=BATCH_SIZE, shuffle=False, num_workers=2)"
      ],
      "execution_count": 0,
      "outputs": []
    },
    {
      "cell_type": "code",
      "metadata": {
        "id": "pPj7CpEC5C34",
        "colab_type": "code",
        "colab": {}
      },
      "source": [
        "def calculate_accuracy(output, target):\n",
        "  return sum(torch.max(output.to('cpu'),1).indices==target.to('cpu'))  "
      ],
      "execution_count": 0,
      "outputs": []
    },
    {
      "cell_type": "code",
      "metadata": {
        "id": "P1Wz30v-qVNw",
        "colab_type": "code",
        "outputId": "0b0a8645-364e-49ad-e29a-30b589808144",
        "colab": {
          "base_uri": "https://localhost:8080/",
          "height": 193
        }
      },
      "source": [
        "loss_list = []\n",
        "for epoch in range(EPOCH):\n",
        "    running_loss = 0.0\n",
        "    running_accuracy = 0.0\n",
        "    for idx, (img, label) in enumerate(train_data):\n",
        "        optimizer.zero_grad()\n",
        "        img = img.to(device)\n",
        "        label = label.long().to(device)\n",
        "        out = model(img)\n",
        "        loss = criterion(out, label)\n",
        "        loss.backward()                                 \n",
        "        optimizer.step()\n",
        "        running_loss+=loss.item()\n",
        "        running_accuracy += calculate_accuracy(out, label)\n",
        "    loss_list.append(running_loss)\n",
        "    print('Epoch: ', epoch, '| train loss: %.4f' % running_loss, '| train accuracy: %.2f' % (100*(running_accuracy.item())/len(train_dataset))) "
      ],
      "execution_count": 17,
      "outputs": [
        {
          "output_type": "stream",
          "text": [
            "Epoch:  0 | train loss: 124.1930 | train accuracy: 85.12\n",
            "Epoch:  1 | train loss: 74.5240 | train accuracy: 91.63\n",
            "Epoch:  2 | train loss: 66.2216 | train accuracy: 92.63\n",
            "Epoch:  3 | train loss: 55.9280 | train accuracy: 94.01\n",
            "Epoch:  4 | train loss: 49.2610 | train accuracy: 94.74\n",
            "Epoch:  5 | train loss: 46.9357 | train accuracy: 95.01\n",
            "Epoch:  6 | train loss: 44.0021 | train accuracy: 95.21\n",
            "Epoch:  7 | train loss: 38.3684 | train accuracy: 95.87\n",
            "Epoch:  8 | train loss: 36.2530 | train accuracy: 96.28\n",
            "Epoch:  9 | train loss: 33.2066 | train accuracy: 96.92\n"
          ],
          "name": "stdout"
        }
      ]
    },
    {
      "cell_type": "code",
      "metadata": {
        "id": "H9ly8GQW_rIV",
        "colab_type": "code",
        "colab": {
          "base_uri": "https://localhost:8080/",
          "height": 34
        },
        "outputId": "650d94a4-9209-4ab6-ac4a-194e17ba87cd"
      },
      "source": [
        "with torch.no_grad():\n",
        "    test_accuracy = 0.0\n",
        "    base = 0\n",
        "    for idx, (img, label) in enumerate(test_data):\n",
        "        img = img.to(device)\n",
        "        base += sum(label).item()\n",
        "        label = label.long().to(device)\n",
        "        out = model(img)\n",
        "        test_accuracy += calculate_accuracy(out,label)\n",
        "    print(\"Test accuracy: \",(100*test_accuracy.item()/len(test_dataset)),\"Base: \",(100*base/len(test_dataset)))"
      ],
      "execution_count": 18,
      "outputs": [
        {
          "output_type": "stream",
          "text": [
            "Test accuracy:  97.90257104194858 Base:  66.84709066305818\n"
          ],
          "name": "stdout"
        }
      ]
    }
  ]
}